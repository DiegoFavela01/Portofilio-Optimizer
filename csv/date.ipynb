{
 "cells": [
  {
   "cell_type": "code",
   "execution_count": null,
   "id": "8404239e-85a6-4ec0-9334-8a5db7d40733",
   "metadata": {},
   "outputs": [],
   "source": [
    "import csv\n",
    "from datetime import datetime, timedelta\n",
    "import pandas as pd\n",
    "import pandas_market_calendars as mcal\n",
    "\n",
    "def get_trading_days(start_date, end_date):\n",
    "    nyse = mcal.get_calendar('NYSE')\n",
    "    schedule = nyse.schedule(start_date=start_date, end_date=end_date)\n",
    "    trading_days = nyse.valid_days(start_date=schedule.index[0], end_date=schedule.index[-1])\n",
    "    return trading_days\n",
    "\n",
    "def generate_csv(start_date, end_date, output_file):\n",
    "    trading_days = get_trading_days(start_date, end_date)\n",
    "    \n",
    "    with open(output_file, 'w', newline='') as file:\n",
    "        writer = csv.writer(file)\n",
    "        writer.writerow(['Date', 'FirstDayOfWeek', 'FirstDayOfMonth'])\n",
    "        \n",
    "        prev_week = None\n",
    "        prev_month = None\n",
    "        \n",
    "        for day in trading_days:\n",
    "            date = day.strftime('%Y-%m-%d')\n",
    "            \n",
    "            week = day.weekday()\n",
    "            first_day_of_week = prev_week != week\n",
    "            prev_week = week\n",
    "            \n",
    "            month = day.month\n",
    "            first_day_of_month = prev_month != month\n",
    "            prev_month = month\n",
    "            \n",
    "            writer.writerow([date, first_day_of_week, first_day_of_month])\n",
    "\n",
    "\n",
    "current_year = datetime.now().year\n",
    "start_date = datetime(current_year, 1, 1)\n"
   ]
  }
 ],
 "metadata": {
  "kernelspec": {
   "display_name": "Python (dev)",
   "language": "python",
   "name": "dev"
  },
  "language_info": {
   "codemirror_mode": {
    "name": "ipython",
    "version": 3
   },
   "file_extension": ".py",
   "mimetype": "text/x-python",
   "name": "python",
   "nbconvert_exporter": "python",
   "pygments_lexer": "ipython3",
   "version": "3.7.15"
  }
 },
 "nbformat": 4,
 "nbformat_minor": 5
}
