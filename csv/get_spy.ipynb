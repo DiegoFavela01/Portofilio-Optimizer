{
 "cells": [
  {
   "cell_type": "code",
   "execution_count": 9,
   "id": "5d4b3337-a199-4d1c-8d7a-05eeaf28e25d",
   "metadata": {},
   "outputs": [],
   "source": [
    "import pandas as pd\n",
    "import yfinance as yf\n",
    "import datetime as dt\n",
    "import ssl\n",
    "from pandas_datareader import data as pdr\n",
    "yf.pdr_override()\n",
    "ssl._create_default_https_context = ssl._create_unverified_context"
   ]
  },
  {
   "cell_type": "code",
   "execution_count": 10,
   "id": "fa6fcc15-8819-49fc-a406-f34353beb497",
   "metadata": {},
   "outputs": [],
   "source": [
    "def get_spy_list():\n",
    "    # Get list of S&P stocks from wiki\n",
    "    sp500url = 'https://en.wikipedia.org/wiki/List_of_S%26P_500_companies'\n",
    "    data_table = pd.read_html(sp500url)\n",
    "    # Place list of stocks in a table\n",
    "    snp_list = data_table[0]\n",
    "    # remove unneeded columns\n",
    "    snp_list = snp_list.drop(columns=[\"CIK\",\"Founded\",\"Headquarters Location\"], inplace=False)\n",
    "    # set index\n",
    "    snp_list = snp_list.set_index(\"Symbol\",inplace=False)\n",
    "    # set convert add dates to datetime format\n",
    "    snp_list['Date Added'] = pd.to_datetime(snp_list['Date added'], errors='coerce')\n",
    "    snp_list = snp_list.drop(columns = [\"Date added\"])\n",
    "    \n",
    "    # Create list of added and removed stocks\n",
    "    add_remove_df = data_table[1]\n",
    "    # set the index\n",
    "    add_remove_df = add_remove_df.set_index(\"Date\",inplace=False)\n",
    "\n",
    "    # Creat list of removed stocks\n",
    "    remove_list = pd.DataFrame()\n",
    "    remove_list[\"Symbol\"] = add_remove_df[\"Removed\"][\"Ticker\"]\n",
    "    remove_list[\"Security\"] = add_remove_df[\"Removed\"][\"Security\"]\n",
    "\n",
    "    # Convert list of dates into datetime format\n",
    "    dates = add_remove_df[\"Removed\"].index.values.tolist()\n",
    "    def makethisdate(date):\n",
    "        s = str(date)\n",
    "        new = dt.datetime.strptime(s, \"('%B %d, %Y',)\")\n",
    "        new = new.strftime('%Y-%m-%d')\n",
    "        return new\n",
    "    dates = list(map(makethisdate, dates))\n",
    "    remove_list[\"Date Removed\"] = dates\n",
    "    remove_list[\"Date Removed\"] = pd.to_datetime(remove_list[\"Date Removed\"])\n",
    "    # update the index to match that of the snp_list\n",
    "    remove_list = remove_list.set_index(\"Symbol\", inplace = False)\n",
    "    remove_list = remove_list.dropna()\n",
    "\n",
    "    # Create List of Added Stocks\n",
    "    added_list = pd.DataFrame()\n",
    "    added_list[\"Symbol\"] = add_remove_df[\"Added\"][\"Ticker\"]\n",
    "\n",
    "    # Convert list of dates into datetime format\n",
    "    dates = add_remove_df[\"Added\"].index.values.tolist()\n",
    "    def makethisdate(date):\n",
    "        s = str(date)\n",
    "        new = dt.datetime.strptime(s, \"('%B %d, %Y',)\")\n",
    "        new = new.strftime('%Y-%m-%d')\n",
    "        return new\n",
    "    dates = list(map(makethisdate, dates))\n",
    "    added_list[\"Date Added\"] = dates\n",
    "    added_list[\"Date Added\"] = pd.to_datetime(added_list[\"Date Added\"])\n",
    "    # update the index to match that of the snp_list\n",
    "    added_list = added_list.set_index(\"Symbol\", inplace = False)\n",
    "    added_list = added_list.dropna()\n",
    "\n",
    "    # Update removed list with any that have been added and removed\n",
    "    remove_list = remove_list.join(added_list)\n",
    "    remove_list[\"Date Added\"] = remove_list[\"Date Added\"].fillna(dt.date.today() - dt.timedelta(days = 20*366))\n",
    "    # remove symbols dropped prior to twenty years ago\n",
    "    remove_list = remove_list[remove_list[\"Date Removed\"]>(dt.datetime.now() - dt.timedelta(days = 20*365))]\n",
    "    remove_list = remove_list.groupby(\"Symbol\").max()\n",
    "\n",
    "    # Add the two tables for a total list\n",
    "    snp_list = snp_list[\"Date Added\"].fillna(dt.date.today() - dt.timedelta(days = 20*366))\n",
    "    snp_total_list = snp_list.append(remove_list)\n",
    "    \n",
    "    return snp_total_list\n",
    "\n"
   ]
  },
  {
   "cell_type": "code",
   "execution_count": 11,
   "id": "c2757dec-ae5d-4486-8315-65f2d53c3ba3",
   "metadata": {},
   "outputs": [],
   "source": [
    "def getData(stocks, start, end):\n",
    "    stockdata = pdr.get_data_yahoo(stocks, start=start, end=end)\n",
    "    stockdata = stockdata['Adj Close']\n",
    "    \n",
    "    returns = stockdata.pct_change().dropna(how='all').dropna(axis=1)\n",
    "    return_list = returns.columns.T.to_list()\n",
    "    mean_returns = returns.mean()\n",
    "    cov_matrix = returns.cov()\n",
    "    return mean_returns, cov_matrix, return_list\n"
   ]
  },
  {
   "cell_type": "code",
   "execution_count": 12,
   "id": "5726fa01-30c0-4360-80de-d1623109a2e5",
   "metadata": {},
   "outputs": [
    {
     "ename": "TypeError",
     "evalue": "to_append should be a Series or list/tuple of Series, got DataFrame",
     "output_type": "error",
     "traceback": [
      "\u001b[1;31m---------------------------------------------------------------------------\u001b[0m",
      "\u001b[1;31mTypeError\u001b[0m                                 Traceback (most recent call last)",
      "\u001b[1;32m~\\AppData\\Local\\Temp\\ipykernel_15776\\3198936596.py\u001b[0m in \u001b[0;36m<module>\u001b[1;34m\u001b[0m\n\u001b[1;32m----> 1\u001b[1;33m \u001b[0mstock_list\u001b[0m \u001b[1;33m=\u001b[0m \u001b[0mget_spy_list\u001b[0m\u001b[1;33m(\u001b[0m\u001b[1;33m)\u001b[0m\u001b[1;33m\u001b[0m\u001b[1;33m\u001b[0m\u001b[0m\n\u001b[0m\u001b[0;32m      2\u001b[0m \u001b[0mpull_list\u001b[0m \u001b[1;33m=\u001b[0m \u001b[0mstock_list\u001b[0m\u001b[1;33m.\u001b[0m\u001b[0mindex\u001b[0m\u001b[1;33m.\u001b[0m\u001b[0mT\u001b[0m\u001b[1;33m.\u001b[0m\u001b[0mto_list\u001b[0m\u001b[1;33m(\u001b[0m\u001b[1;33m)\u001b[0m\u001b[1;33m\u001b[0m\u001b[1;33m\u001b[0m\u001b[0m\n\u001b[0;32m      3\u001b[0m \u001b[0mend1\u001b[0m \u001b[1;33m=\u001b[0m \u001b[0mdt\u001b[0m\u001b[1;33m.\u001b[0m\u001b[0mdate\u001b[0m\u001b[1;33m.\u001b[0m\u001b[0mtoday\u001b[0m\u001b[1;33m(\u001b[0m\u001b[1;33m)\u001b[0m\u001b[1;33m\u001b[0m\u001b[1;33m\u001b[0m\u001b[0m\n\u001b[0;32m      4\u001b[0m \u001b[0mstart1\u001b[0m \u001b[1;33m=\u001b[0m \u001b[0mend1\u001b[0m \u001b[1;33m-\u001b[0m \u001b[0mdt\u001b[0m\u001b[1;33m.\u001b[0m\u001b[0mtimedelta\u001b[0m\u001b[1;33m(\u001b[0m\u001b[0mdays\u001b[0m\u001b[1;33m=\u001b[0m\u001b[1;36m365\u001b[0m\u001b[1;33m)\u001b[0m\u001b[1;33m\u001b[0m\u001b[1;33m\u001b[0m\u001b[0m\n\u001b[0;32m      5\u001b[0m \u001b[0mstart\u001b[0m \u001b[1;33m=\u001b[0m \u001b[0mstart1\u001b[0m\u001b[1;33m.\u001b[0m\u001b[0mstrftime\u001b[0m\u001b[1;33m(\u001b[0m\u001b[1;34m'%Y-%m-%d'\u001b[0m\u001b[1;33m)\u001b[0m\u001b[1;33m\u001b[0m\u001b[1;33m\u001b[0m\u001b[0m\n",
      "\u001b[1;32m~\\AppData\\Local\\Temp\\ipykernel_15776\\4124240140.py\u001b[0m in \u001b[0;36mget_spy_list\u001b[1;34m()\u001b[0m\n\u001b[0;32m     64\u001b[0m     \u001b[1;31m# Add the two tables for a total list\u001b[0m\u001b[1;33m\u001b[0m\u001b[1;33m\u001b[0m\u001b[1;33m\u001b[0m\u001b[0m\n\u001b[0;32m     65\u001b[0m     \u001b[0msnp_list\u001b[0m \u001b[1;33m=\u001b[0m \u001b[0msnp_list\u001b[0m\u001b[1;33m[\u001b[0m\u001b[1;34m\"Date Added\"\u001b[0m\u001b[1;33m]\u001b[0m\u001b[1;33m.\u001b[0m\u001b[0mfillna\u001b[0m\u001b[1;33m(\u001b[0m\u001b[0mdt\u001b[0m\u001b[1;33m.\u001b[0m\u001b[0mdate\u001b[0m\u001b[1;33m.\u001b[0m\u001b[0mtoday\u001b[0m\u001b[1;33m(\u001b[0m\u001b[1;33m)\u001b[0m \u001b[1;33m-\u001b[0m \u001b[0mdt\u001b[0m\u001b[1;33m.\u001b[0m\u001b[0mtimedelta\u001b[0m\u001b[1;33m(\u001b[0m\u001b[0mdays\u001b[0m \u001b[1;33m=\u001b[0m \u001b[1;36m20\u001b[0m\u001b[1;33m*\u001b[0m\u001b[1;36m366\u001b[0m\u001b[1;33m)\u001b[0m\u001b[1;33m)\u001b[0m\u001b[1;33m\u001b[0m\u001b[1;33m\u001b[0m\u001b[0m\n\u001b[1;32m---> 66\u001b[1;33m     \u001b[0msnp_total_list\u001b[0m \u001b[1;33m=\u001b[0m \u001b[0msnp_list\u001b[0m\u001b[1;33m.\u001b[0m\u001b[0mappend\u001b[0m\u001b[1;33m(\u001b[0m\u001b[0mremove_list\u001b[0m\u001b[1;33m)\u001b[0m\u001b[1;33m\u001b[0m\u001b[1;33m\u001b[0m\u001b[0m\n\u001b[0m\u001b[0;32m     67\u001b[0m \u001b[1;33m\u001b[0m\u001b[0m\n\u001b[0;32m     68\u001b[0m     \u001b[1;32mreturn\u001b[0m \u001b[0msnp_total_list\u001b[0m\u001b[1;33m\u001b[0m\u001b[1;33m\u001b[0m\u001b[0m\n",
      "\u001b[1;32m~\\Dev\\envs\\dev\\lib\\site-packages\\pandas\\core\\series.py\u001b[0m in \u001b[0;36mappend\u001b[1;34m(self, to_append, ignore_index, verify_integrity)\u001b[0m\n\u001b[0;32m   2874\u001b[0m         \u001b[1;32mif\u001b[0m \u001b[0many\u001b[0m\u001b[1;33m(\u001b[0m\u001b[0misinstance\u001b[0m\u001b[1;33m(\u001b[0m\u001b[0mx\u001b[0m\u001b[1;33m,\u001b[0m \u001b[1;33m(\u001b[0m\u001b[0mABCDataFrame\u001b[0m\u001b[1;33m,\u001b[0m\u001b[1;33m)\u001b[0m\u001b[1;33m)\u001b[0m \u001b[1;32mfor\u001b[0m \u001b[0mx\u001b[0m \u001b[1;32min\u001b[0m \u001b[0mto_concat\u001b[0m\u001b[1;33m[\u001b[0m\u001b[1;36m1\u001b[0m\u001b[1;33m:\u001b[0m\u001b[1;33m]\u001b[0m\u001b[1;33m)\u001b[0m\u001b[1;33m:\u001b[0m\u001b[1;33m\u001b[0m\u001b[1;33m\u001b[0m\u001b[0m\n\u001b[0;32m   2875\u001b[0m             \u001b[0mmsg\u001b[0m \u001b[1;33m=\u001b[0m \u001b[1;34m\"to_append should be a Series or list/tuple of Series, got DataFrame\"\u001b[0m\u001b[1;33m\u001b[0m\u001b[1;33m\u001b[0m\u001b[0m\n\u001b[1;32m-> 2876\u001b[1;33m             \u001b[1;32mraise\u001b[0m \u001b[0mTypeError\u001b[0m\u001b[1;33m(\u001b[0m\u001b[0mmsg\u001b[0m\u001b[1;33m)\u001b[0m\u001b[1;33m\u001b[0m\u001b[1;33m\u001b[0m\u001b[0m\n\u001b[0m\u001b[0;32m   2877\u001b[0m         return concat(\n\u001b[0;32m   2878\u001b[0m             \u001b[0mto_concat\u001b[0m\u001b[1;33m,\u001b[0m \u001b[0mignore_index\u001b[0m\u001b[1;33m=\u001b[0m\u001b[0mignore_index\u001b[0m\u001b[1;33m,\u001b[0m \u001b[0mverify_integrity\u001b[0m\u001b[1;33m=\u001b[0m\u001b[0mverify_integrity\u001b[0m\u001b[1;33m\u001b[0m\u001b[1;33m\u001b[0m\u001b[0m\n",
      "\u001b[1;31mTypeError\u001b[0m: to_append should be a Series or list/tuple of Series, got DataFrame"
     ]
    }
   ],
   "source": [
    "stock_list = get_spy_list()\n",
    "pull_list = stock_list.index.T.to_list()\n",
    "end1 = dt.date.today()\n",
    "start1 = end1 - dt.timedelta(days=365)\n",
    "start = start1.strftime('%Y-%m-%d')\n",
    "end = end1.strftime('%Y-%m-%d')\n",
    "\n",
    "mean_returns, cov_matrix, return_list = getData(stocks=pull_list,start=start,end=end)"
   ]
  },
  {
   "cell_type": "code",
   "execution_count": null,
   "id": "38725937-06ee-47ee-9ed4-575525620c22",
   "metadata": {},
   "outputs": [],
   "source": []
  },
  {
   "cell_type": "code",
   "execution_count": null,
   "id": "9ac0923f-2164-4987-a67e-120ef6a689dd",
   "metadata": {},
   "outputs": [],
   "source": []
  }
 ],
 "metadata": {
  "kernelspec": {
   "display_name": "Python (dev)",
   "language": "python",
   "name": "dev"
  },
  "language_info": {
   "codemirror_mode": {
    "name": "ipython",
    "version": 3
   },
   "file_extension": ".py",
   "mimetype": "text/x-python",
   "name": "python",
   "nbconvert_exporter": "python",
   "pygments_lexer": "ipython3",
   "version": "3.7.15"
  }
 },
 "nbformat": 4,
 "nbformat_minor": 5
}
